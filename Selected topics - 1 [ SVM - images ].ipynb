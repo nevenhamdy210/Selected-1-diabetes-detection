{
 "cells": [
  {
   "cell_type": "code",
   "execution_count": 1,
   "id": "1f1fb2ff",
   "metadata": {},
   "outputs": [],
   "source": [
    "import numpy as np\n",
    "import cv2\n",
    "import matplotlib.pyplot as plt\n",
    "import random\n",
    "%matplotlib inline\n",
    "import cv2\n",
    "from sklearn.utils import shuffle\n",
    "from sklearn.preprocessing import MinMaxScaler\n",
    "from sklearn.model_selection import train_test_split"
   ]
  },
  {
   "cell_type": "code",
   "execution_count": 2,
   "id": "8f99c31a",
   "metadata": {},
   "outputs": [],
   "source": [
    "import glob\n",
    "\n",
    "Positive = glob.glob('archive/Positive/*.jpg') \n",
    "Negative = glob.glob('archive/Negative/*.jpg')\n",
    "\n",
    "positiveImgs = np.zeros((20000,100,100))\n",
    "negativeImgs = np.zeros((20000,100,100))\n",
    "c = 0"
   ]
  },
  {
   "cell_type": "code",
   "execution_count": 3,
   "id": "fba1fd4e",
   "metadata": {},
   "outputs": [],
   "source": [
    "for positive, negative in zip(Positive, Negative):\n",
    "    posImg = cv2.imread(positive, 0)\n",
    "    negImg = cv2.imread(negative, 0)\n",
    "    posImg = cv2.GaussianBlur(posImg,(3,3),1)\n",
    "    negImg = cv2.GaussianBlur(negImg,(3,3),1)\n",
    "    ret,th1 = cv2.threshold(posImg,90,255,cv2.THRESH_BINARY_INV)\n",
    "    ret,th2 = cv2.threshold(negImg,60,255,cv2.THRESH_BINARY_INV)\n",
    "    img1 = cv2.resize(th1, (100, 100), interpolation = cv2.INTER_LINEAR)\n",
    "    img2 = cv2.resize(th2, (100, 100), interpolation = cv2.INTER_LINEAR)\n",
    "    img1 = img1.reshape(1, 100 , 100)\n",
    "    img2 = img2.reshape(1, 100 , 100)\n",
    "    positiveImgs[c] = img1\n",
    "    negativeImgs[c] = img2\n",
    "    c += 1"
   ]
  },
  {
   "cell_type": "code",
   "execution_count": 4,
   "id": "b0048e9d",
   "metadata": {},
   "outputs": [],
   "source": [
    "positiveLabel = np.ones((20000,1), int)\n",
    "negativeLabel = np.zeros((20000,1), int)"
   ]
  },
  {
   "cell_type": "code",
   "execution_count": 5,
   "id": "4610eea2",
   "metadata": {},
   "outputs": [],
   "source": [
    "imgs = np.append(positiveImgs, negativeImgs, axis = 0)"
   ]
  },
  {
   "cell_type": "code",
   "execution_count": 6,
   "id": "8d0510a7",
   "metadata": {},
   "outputs": [],
   "source": [
    "labels = np.append(positiveLabel, negativeLabel, axis = 0)"
   ]
  },
  {
   "cell_type": "code",
   "execution_count": 7,
   "id": "399aa0db",
   "metadata": {},
   "outputs": [],
   "source": [
    "X , Y = shuffle(imgs,labels)"
   ]
  },
  {
   "cell_type": "code",
   "execution_count": 8,
   "id": "43c7a488",
   "metadata": {},
   "outputs": [],
   "source": [
    "X = X.reshape(40000, 10000)\n",
    "X = X.astype('float32') \n",
    "\n",
    "scaler=MinMaxScaler()\n",
    "X=scaler.fit_transform(X)"
   ]
  },
  {
   "cell_type": "code",
   "execution_count": 9,
   "id": "ee5b6a83",
   "metadata": {},
   "outputs": [],
   "source": [
    "x_train, x_test, y_train, y_test = train_test_split(X, Y, train_size=0.2)"
   ]
  },
  {
   "cell_type": "code",
   "execution_count": 10,
   "id": "133bd77e",
   "metadata": {},
   "outputs": [
    {
     "name": "stderr",
     "output_type": "stream",
     "text": [
      "C:\\Users\\mahmo\\anaconda3\\lib\\site-packages\\sklearn\\utils\\validation.py:985: DataConversionWarning: A column-vector y was passed when a 1d array was expected. Please change the shape of y to (n_samples, ), for example using ravel().\n",
      "  y = column_or_1d(y, warn=True)\n"
     ]
    },
    {
     "data": {
      "text/plain": [
       "SVC(kernel='linear')"
      ]
     },
     "execution_count": 10,
     "metadata": {},
     "output_type": "execute_result"
    }
   ],
   "source": [
    "from sklearn import svm\n",
    "from sklearn import metrics\n",
    "\n",
    "# an initial SVM model with linear kernel   \n",
    "svm_linear = svm.SVC(kernel='linear')\n",
    "\n",
    "# fit\n",
    "svm_linear.fit(x_train, y_train)"
   ]
  },
  {
   "cell_type": "code",
   "execution_count": 11,
   "id": "4ead9763",
   "metadata": {},
   "outputs": [],
   "source": [
    "predictions = svm_linear.predict(x_test)"
   ]
  },
  {
   "cell_type": "code",
   "execution_count": 12,
   "id": "6e1f57f3",
   "metadata": {},
   "outputs": [
    {
     "data": {
      "text/plain": [
       "0.98471875"
      ]
     },
     "execution_count": 12,
     "metadata": {},
     "output_type": "execute_result"
    }
   ],
   "source": [
    "metrics.accuracy_score(y_true=y_test, y_pred=predictions)"
   ]
  },
  {
   "cell_type": "code",
   "execution_count": 13,
   "id": "05c4b150-501d-4d93-bae4-02f27b372c19",
   "metadata": {},
   "outputs": [],
   "source": [
    "from sklearn import metrics\n",
    "confusion = metrics.confusion_matrix(y_true = y_test, y_pred = predictions)"
   ]
  },
  {
   "cell_type": "code",
   "execution_count": 14,
   "id": "ba38ff1c-834f-4e2d-8aa3-6ea59c6e556e",
   "metadata": {},
   "outputs": [
    {
     "data": {
      "image/png": "[encoded data removed]",
      "text/plain": [
       "<Figure size 720x504 with 2 Axes>"
      ]
     },
     "metadata": {
      "needs_background": "light"
     },
     "output_type": "display_data"
    }
   ],
   "source": [
    "import pandas as pd\n",
    "import seaborn as sns\n",
    "df_cm = pd.DataFrame(confusion, index = [i for i in \"01\"],\n",
    "                  columns = [i for i in \"01\"])\n",
    "plt.figure(figsize = (10,7))\n",
    "plt.title(\"Confusion matrix\")\n",
    "plt.ylabel('Real Values')\n",
    "plt.xlabel('Predicted Values')\n",
    "sns.heatmap(df_cm, annot=True,fmt='d')\n",
    "\n",
    "plt.show()"
   ]
  },
  {
   "cell_type": "code",
   "execution_count": 15,
   "id": "b4b51256-e66c-4aa5-bd4e-1cffb1f4e667",
   "metadata": {},
   "outputs": [
    {
     "data": {
      "image/png": "[encoded data removed]",
      "text/plain": [
       "<Figure size 432x288 with 1 Axes>"
      ]
     },
     "metadata": {
      "needs_background": "light"
     },
     "output_type": "display_data"
    }
   ],
   "source": [
    "import matplotlib.pyplot as plt\n",
    "from sklearn.metrics import roc_curve, auc\n",
    "fpr = dict()\n",
    "tpr = dict()\n",
    "roc_auc = dict()\n",
    "for i in range(2):\n",
    "    fpr[i], tpr[i], _ = roc_curve(y_test, predictions)\n",
    "    roc_auc[i] = auc(fpr[i], tpr[i])\n",
    "\n",
    "plt.figure()\n",
    "plt.plot(fpr[1], tpr[1])\n",
    "plt.xlabel('False Positive Rate')\n",
    "plt.ylabel('True Positive Rate')\n",
    "plt.title('ROC')\n",
    "plt.show()"
   ]
  },
  {
   "cell_type": "code",
   "execution_count": null,
   "id": "134f2ac1-5f08-4dd3-9f9e-a55892d1726d",
   "metadata": {},
   "outputs": [],
   "source": []
  }
 ],
 "metadata": {
  "kernelspec": {
   "display_name": "Python 3 (ipykernel)",
   "language": "python",
   "name": "python3"
  },
  "language_info": {
   "codemirror_mode": {
    "name": "ipython",
    "version": 3
   },
   "file_extension": ".py",
   "mimetype": "text/x-python",
   "name": "python",
   "nbconvert_exporter": "python",
   "pygments_lexer": "ipython3",
   "version": "3.8.8"
  }
 },
 "nbformat": 4,
 "nbformat_minor": 5
}
