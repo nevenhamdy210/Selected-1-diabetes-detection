{
 "cells": [
  {
   "cell_type": "code",
   "execution_count": 19,
   "id": "d6769b8d",
   "metadata": {},
   "outputs": [],
   "source": [
    "import os\n",
    "import numpy as np\n",
    "import pandas as pd\n",
    "import matplotlib.pyplot as plt\n",
    "import seaborn as sns\n",
    "from sklearn import preprocessing\n",
    "import random as rn\n",
    "from sklearn import svm\n",
    "from sklearn import metrics\n",
    "from sklearn.svm import SVC\n",
    "from sklearn.preprocessing import MinMaxScaler\n",
    "from sklearn.metrics import roc_curve,auc\n",
    "from sklearn.decomposition import PCA\n",
    "from matplotlib.colors import ListedColormap\n"
   ]
  },
  {
   "cell_type": "code",
   "execution_count": 20,
   "id": "1aeccee6",
   "metadata": {},
   "outputs": [],
   "source": [
    "dataset= pd.read_csv('diabetes.csv')\n"
   ]
  },
  {
   "cell_type": "code",
   "execution_count": 21,
   "id": "81cb063d",
   "metadata": {},
   "outputs": [
    {
     "data": {
      "text/html": [
       "<div>\n",
       "<style scoped>\n",
       "    .dataframe tbody tr th:only-of-type {\n",
       "        vertical-align: middle;\n",
       "    }\n",
       "\n",
       "    .dataframe tbody tr th {\n",
       "        vertical-align: top;\n",
       "    }\n",
       "\n",
       "    .dataframe thead th {\n",
       "        text-align: right;\n",
       "    }\n",
       "</style>\n",
       "<table border=\"1\" class=\"dataframe\">\n",
       "  <thead>\n",
       "    <tr style=\"text-align: right;\">\n",
       "      <th></th>\n",
       "      <th>Pregnancies</th>\n",
       "      <th>Glucose</th>\n",
       "      <th>BloodPressure</th>\n",
       "      <th>SkinThickness</th>\n",
       "      <th>Insulin</th>\n",
       "      <th>BMI</th>\n",
       "      <th>DiabetesPedigreeFunction</th>\n",
       "      <th>Age</th>\n",
       "      <th>Outcome</th>\n",
       "    </tr>\n",
       "  </thead>\n",
       "  <tbody>\n",
       "    <tr>\n",
       "      <th>0</th>\n",
       "      <td>2</td>\n",
       "      <td>138</td>\n",
       "      <td>62</td>\n",
       "      <td>35</td>\n",
       "      <td>0</td>\n",
       "      <td>33.6</td>\n",
       "      <td>0.127</td>\n",
       "      <td>47</td>\n",
       "      <td>1</td>\n",
       "    </tr>\n",
       "    <tr>\n",
       "      <th>1</th>\n",
       "      <td>0</td>\n",
       "      <td>84</td>\n",
       "      <td>82</td>\n",
       "      <td>31</td>\n",
       "      <td>125</td>\n",
       "      <td>38.2</td>\n",
       "      <td>0.233</td>\n",
       "      <td>23</td>\n",
       "      <td>0</td>\n",
       "    </tr>\n",
       "    <tr>\n",
       "      <th>2</th>\n",
       "      <td>0</td>\n",
       "      <td>145</td>\n",
       "      <td>0</td>\n",
       "      <td>0</td>\n",
       "      <td>0</td>\n",
       "      <td>44.2</td>\n",
       "      <td>0.630</td>\n",
       "      <td>31</td>\n",
       "      <td>1</td>\n",
       "    </tr>\n",
       "    <tr>\n",
       "      <th>3</th>\n",
       "      <td>0</td>\n",
       "      <td>135</td>\n",
       "      <td>68</td>\n",
       "      <td>42</td>\n",
       "      <td>250</td>\n",
       "      <td>42.3</td>\n",
       "      <td>0.365</td>\n",
       "      <td>24</td>\n",
       "      <td>1</td>\n",
       "    </tr>\n",
       "    <tr>\n",
       "      <th>4</th>\n",
       "      <td>1</td>\n",
       "      <td>139</td>\n",
       "      <td>62</td>\n",
       "      <td>41</td>\n",
       "      <td>480</td>\n",
       "      <td>40.7</td>\n",
       "      <td>0.536</td>\n",
       "      <td>21</td>\n",
       "      <td>0</td>\n",
       "    </tr>\n",
       "  </tbody>\n",
       "</table>\n",
       "</div>"
      ],
      "text/plain": [
       "   Pregnancies  Glucose  BloodPressure  SkinThickness  Insulin   BMI  \\\n",
       "0            2      138             62             35        0  33.6   \n",
       "1            0       84             82             31      125  38.2   \n",
       "2            0      145              0              0        0  44.2   \n",
       "3            0      135             68             42      250  42.3   \n",
       "4            1      139             62             41      480  40.7   \n",
       "\n",
       "   DiabetesPedigreeFunction  Age  Outcome  \n",
       "0                     0.127   47        1  \n",
       "1                     0.233   23        0  \n",
       "2                     0.630   31        1  \n",
       "3                     0.365   24        1  \n",
       "4                     0.536   21        0  "
      ]
     },
     "execution_count": 21,
     "metadata": {},
     "output_type": "execute_result"
    }
   ],
   "source": [
    "dataset.head()"
   ]
  },
  {
   "cell_type": "code",
   "execution_count": 22,
   "id": "3a163fa3",
   "metadata": {},
   "outputs": [
    {
     "name": "stdout",
     "output_type": "stream",
     "text": [
      "<class 'pandas.core.frame.DataFrame'>\n",
      "RangeIndex: 2000 entries, 0 to 1999\n",
      "Data columns (total 9 columns):\n",
      " #   Column                    Non-Null Count  Dtype  \n",
      "---  ------                    --------------  -----  \n",
      " 0   Pregnancies               2000 non-null   int64  \n",
      " 1   Glucose                   2000 non-null   int64  \n",
      " 2   BloodPressure             2000 non-null   int64  \n",
      " 3   SkinThickness             2000 non-null   int64  \n",
      " 4   Insulin                   2000 non-null   int64  \n",
      " 5   BMI                       2000 non-null   float64\n",
      " 6   DiabetesPedigreeFunction  2000 non-null   float64\n",
      " 7   Age                       2000 non-null   int64  \n",
      " 8   Outcome                   2000 non-null   int64  \n",
      "dtypes: float64(2), int64(7)\n",
      "memory usage: 140.8 KB\n"
     ]
    }
   ],
   "source": [
    "dataset.info()"
   ]
  },
  {
   "cell_type": "code",
   "execution_count": 23,
   "id": "faafb921",
   "metadata": {},
   "outputs": [
    {
     "data": {
      "text/html": [
       "<div>\n",
       "<style scoped>\n",
       "    .dataframe tbody tr th:only-of-type {\n",
       "        vertical-align: middle;\n",
       "    }\n",
       "\n",
       "    .dataframe tbody tr th {\n",
       "        vertical-align: top;\n",
       "    }\n",
       "\n",
       "    .dataframe thead th {\n",
       "        text-align: right;\n",
       "    }\n",
       "</style>\n",
       "<table border=\"1\" class=\"dataframe\">\n",
       "  <thead>\n",
       "    <tr style=\"text-align: right;\">\n",
       "      <th></th>\n",
       "      <th>Pregnancies</th>\n",
       "      <th>Glucose</th>\n",
       "      <th>BloodPressure</th>\n",
       "      <th>SkinThickness</th>\n",
       "      <th>Insulin</th>\n",
       "      <th>BMI</th>\n",
       "      <th>DiabetesPedigreeFunction</th>\n",
       "      <th>Age</th>\n",
       "      <th>Outcome</th>\n",
       "    </tr>\n",
       "  </thead>\n",
       "  <tbody>\n",
       "    <tr>\n",
       "      <th>count</th>\n",
       "      <td>2000.000000</td>\n",
       "      <td>2000.000000</td>\n",
       "      <td>2000.000000</td>\n",
       "      <td>2000.000000</td>\n",
       "      <td>2000.000000</td>\n",
       "      <td>2000.000000</td>\n",
       "      <td>2000.000000</td>\n",
       "      <td>2000.000000</td>\n",
       "      <td>2000.000000</td>\n",
       "    </tr>\n",
       "    <tr>\n",
       "      <th>mean</th>\n",
       "      <td>3.703500</td>\n",
       "      <td>121.182500</td>\n",
       "      <td>69.145500</td>\n",
       "      <td>20.935000</td>\n",
       "      <td>80.254000</td>\n",
       "      <td>32.193000</td>\n",
       "      <td>0.470930</td>\n",
       "      <td>33.090500</td>\n",
       "      <td>0.342000</td>\n",
       "    </tr>\n",
       "    <tr>\n",
       "      <th>std</th>\n",
       "      <td>3.306063</td>\n",
       "      <td>32.068636</td>\n",
       "      <td>19.188315</td>\n",
       "      <td>16.103243</td>\n",
       "      <td>111.180534</td>\n",
       "      <td>8.149901</td>\n",
       "      <td>0.323553</td>\n",
       "      <td>11.786423</td>\n",
       "      <td>0.474498</td>\n",
       "    </tr>\n",
       "    <tr>\n",
       "      <th>min</th>\n",
       "      <td>0.000000</td>\n",
       "      <td>0.000000</td>\n",
       "      <td>0.000000</td>\n",
       "      <td>0.000000</td>\n",
       "      <td>0.000000</td>\n",
       "      <td>0.000000</td>\n",
       "      <td>0.078000</td>\n",
       "      <td>21.000000</td>\n",
       "      <td>0.000000</td>\n",
       "    </tr>\n",
       "    <tr>\n",
       "      <th>25%</th>\n",
       "      <td>1.000000</td>\n",
       "      <td>99.000000</td>\n",
       "      <td>63.500000</td>\n",
       "      <td>0.000000</td>\n",
       "      <td>0.000000</td>\n",
       "      <td>27.375000</td>\n",
       "      <td>0.244000</td>\n",
       "      <td>24.000000</td>\n",
       "      <td>0.000000</td>\n",
       "    </tr>\n",
       "    <tr>\n",
       "      <th>50%</th>\n",
       "      <td>3.000000</td>\n",
       "      <td>117.000000</td>\n",
       "      <td>72.000000</td>\n",
       "      <td>23.000000</td>\n",
       "      <td>40.000000</td>\n",
       "      <td>32.300000</td>\n",
       "      <td>0.376000</td>\n",
       "      <td>29.000000</td>\n",
       "      <td>0.000000</td>\n",
       "    </tr>\n",
       "    <tr>\n",
       "      <th>75%</th>\n",
       "      <td>6.000000</td>\n",
       "      <td>141.000000</td>\n",
       "      <td>80.000000</td>\n",
       "      <td>32.000000</td>\n",
       "      <td>130.000000</td>\n",
       "      <td>36.800000</td>\n",
       "      <td>0.624000</td>\n",
       "      <td>40.000000</td>\n",
       "      <td>1.000000</td>\n",
       "    </tr>\n",
       "    <tr>\n",
       "      <th>max</th>\n",
       "      <td>17.000000</td>\n",
       "      <td>199.000000</td>\n",
       "      <td>122.000000</td>\n",
       "      <td>110.000000</td>\n",
       "      <td>744.000000</td>\n",
       "      <td>80.600000</td>\n",
       "      <td>2.420000</td>\n",
       "      <td>81.000000</td>\n",
       "      <td>1.000000</td>\n",
       "    </tr>\n",
       "  </tbody>\n",
       "</table>\n",
       "</div>"
      ],
      "text/plain": [
       "       Pregnancies      Glucose  BloodPressure  SkinThickness      Insulin  \\\n",
       "count  2000.000000  2000.000000    2000.000000    2000.000000  2000.000000   \n",
       "mean      3.703500   121.182500      69.145500      20.935000    80.254000   \n",
       "std       3.306063    32.068636      19.188315      16.103243   111.180534   \n",
       "min       0.000000     0.000000       0.000000       0.000000     0.000000   \n",
       "25%       1.000000    99.000000      63.500000       0.000000     0.000000   \n",
       "50%       3.000000   117.000000      72.000000      23.000000    40.000000   \n",
       "75%       6.000000   141.000000      80.000000      32.000000   130.000000   \n",
       "max      17.000000   199.000000     122.000000     110.000000   744.000000   \n",
       "\n",
       "               BMI  DiabetesPedigreeFunction          Age      Outcome  \n",
       "count  2000.000000               2000.000000  2000.000000  2000.000000  \n",
       "mean     32.193000                  0.470930    33.090500     0.342000  \n",
       "std       8.149901                  0.323553    11.786423     0.474498  \n",
       "min       0.000000                  0.078000    21.000000     0.000000  \n",
       "25%      27.375000                  0.244000    24.000000     0.000000  \n",
       "50%      32.300000                  0.376000    29.000000     0.000000  \n",
       "75%      36.800000                  0.624000    40.000000     1.000000  \n",
       "max      80.600000                  2.420000    81.000000     1.000000  "
      ]
     },
     "execution_count": 23,
     "metadata": {},
     "output_type": "execute_result"
    }
   ],
   "source": [
    "dataset.describe()"
   ]
  },
  {
   "cell_type": "code",
   "execution_count": 24,
   "id": "139bfdb3",
   "metadata": {},
   "outputs": [
    {
     "data": {
      "text/plain": [
       "Pregnancies                 0.982366\n",
       "Glucose                     0.158806\n",
       "BloodPressure              -1.854476\n",
       "SkinThickness               0.207228\n",
       "Insulin                     1.996084\n",
       "BMI                        -0.090455\n",
       "DiabetesPedigreeFunction    1.811979\n",
       "Age                         1.181267\n",
       "Outcome                     0.666633\n",
       "dtype: float64"
      ]
     },
     "execution_count": 24,
     "metadata": {},
     "output_type": "execute_result"
    }
   ],
   "source": [
    "dataset.skew()"
   ]
  },
  {
   "cell_type": "code",
   "execution_count": 25,
   "id": "31f4e033",
   "metadata": {},
   "outputs": [],
   "source": [
    "dataset_copy = dataset.copy()"
   ]
  },
  {
   "cell_type": "code",
   "execution_count": 26,
   "id": "93689b6f",
   "metadata": {},
   "outputs": [
    {
     "data": {
      "image/png": "[encoded data removed]",
      "text/plain": [
       "<Figure size 432x288 with 1 Axes>"
      ]
     },
     "metadata": {
      "needs_background": "light"
     },
     "output_type": "display_data"
    }
   ],
   "source": [
    "plt.boxplot(dataset_copy)\n",
    "plt.show()"
   ]
  },
  {
   "cell_type": "code",
   "execution_count": 27,
   "id": "c8161e4e",
   "metadata": {},
   "outputs": [
    {
     "name": "stdout",
     "output_type": "stream",
     "text": [
      "0.9823655943266296\n",
      "0.8637954310410373\n",
      "0.15880587249920794\n",
      "0.5178972697747213\n",
      "-1.854476017469468\n",
      "0.03955940343445571\n",
      "0.2072281255594378\n",
      "-0.05430300701069365\n",
      "1.9960843556489325\n",
      "0.9390987636753445\n",
      "-0.09045533680555248\n",
      "0.2616272208057226\n",
      "1.8119788941444446\n",
      "0.8143904018124094\n",
      "1.1812672229549614\n",
      "0.9065001103172357\n"
     ]
    }
   ],
   "source": [
    "#1\n",
    "print(dataset_copy['Pregnancies'].skew())\n",
    "Q1=dataset_copy['Pregnancies'].quantile(0.25)\n",
    "Q3=dataset_copy['Pregnancies'].quantile(0.75)\n",
    "IQR=Q3-Q1\n",
    "Min= Q1 - 1.5 * IQR\n",
    "Max= Q3 + 1.5 * IQR\n",
    "\n",
    "dataset_copy['Pregnancies'] = np.where(dataset_copy['Pregnancies'] <Min, 0.0,dataset_copy['Pregnancies'])\n",
    "dataset_copy['Pregnancies'] = np.where(dataset_copy['Pregnancies'] >Max, 9.0,dataset_copy['Pregnancies'])\n",
    "print(dataset_copy['Pregnancies'].skew())\n",
    "#2\n",
    "print(dataset_copy['Glucose'].skew())\n",
    "Q1=dataset_copy['Glucose'].quantile(0.25)\n",
    "Q3=dataset_copy['Glucose'].quantile(0.75)\n",
    "IQR=Q3-Q1\n",
    "Min= Q1 - 1.5 * IQR\n",
    "Max= Q3 + 1.5 * IQR\n",
    "\n",
    "dataset_copy['Glucose'] = np.where(dataset_copy['Glucose'] <Min, 85.0,dataset_copy['Glucose'])\n",
    "dataset_copy['Glucose'] = np.where(dataset_copy['Glucose'] >Max, 168.0,dataset_copy['Glucose'])\n",
    "print(dataset_copy['Glucose'].skew())\n",
    "#3\n",
    "print(dataset_copy['BloodPressure'].skew())\n",
    "Q1=dataset_copy['BloodPressure'].quantile(0.25)\n",
    "Q3=dataset_copy['BloodPressure'].quantile(0.75)\n",
    "IQR=Q3-Q1\n",
    "Min= Q1 - 1.5 * IQR\n",
    "Max= Q3 + 1.5 * IQR\n",
    "\n",
    "dataset_copy['BloodPressure'] = np.where(dataset_copy['BloodPressure'] <Min, 54.0,dataset_copy['BloodPressure'])\n",
    "dataset_copy['BloodPressure'] = np.where(dataset_copy['BloodPressure'] >Max, 88.0,dataset_copy['BloodPressure'])\n",
    "print(dataset_copy['BloodPressure'].skew())\n",
    "\n",
    "#4\n",
    "print(dataset_copy['SkinThickness'].skew())\n",
    "Q1=dataset_copy['SkinThickness'].quantile(0.25)\n",
    "Q3=dataset_copy['SkinThickness'].quantile(0.75)\n",
    "IQR=Q3-Q1\n",
    "Min= Q1 - 1.5 * IQR\n",
    "Max= Q3 + 1.5 * IQR\n",
    "\n",
    "dataset_copy['SkinThickness'] = np.where(dataset_copy['SkinThickness'] <Min, 0.0,dataset_copy['SkinThickness'])\n",
    "dataset_copy['SkinThickness'] = np.where(dataset_copy['SkinThickness'] >Max, 40.0,dataset_copy['SkinThickness'])\n",
    "print(dataset_copy['SkinThickness'].skew())\n",
    "\n",
    "#5\n",
    "print(dataset_copy['Insulin'].skew())\n",
    "Q1=dataset_copy['Insulin'].quantile(0.25)\n",
    "Q3=dataset_copy['Insulin'].quantile(0.75)\n",
    "IQR=Q3-Q1\n",
    "Min= Q1 - 1.5 * IQR\n",
    "Max= Q3 + 1.5 * IQR\n",
    "\n",
    "dataset_copy['Insulin'] = np.where(dataset_copy['Insulin'] <Min, 0.0,dataset_copy['Insulin'])\n",
    "dataset_copy['Insulin'] = np.where(dataset_copy['Insulin'] >Max, 210.0,dataset_copy['Insulin'])\n",
    "print(dataset_copy['Insulin'].skew())\n",
    "\n",
    "#6\n",
    "print(dataset_copy['BMI'].skew())\n",
    "Q1=dataset_copy['BMI'].quantile(0.25)\n",
    "Q3=dataset_copy['BMI'].quantile(0.75)\n",
    "IQR=Q3-Q1\n",
    "Min= Q1 - 1.5 * IQR\n",
    "Max= Q3 + 1.5 * IQR\n",
    "\n",
    "dataset_copy['BMI'] = np.where(dataset_copy['BMI'] <Min, 23.7,dataset_copy['BMI'])\n",
    "dataset_copy['BMI'] = np.where(dataset_copy['BMI'] >Max, 42.1,dataset_copy['BMI'])\n",
    "print(dataset_copy['BMI'].skew())\n",
    "\n",
    "#7\n",
    "print(dataset_copy['DiabetesPedigreeFunction'].skew())\n",
    "Q1=dataset_copy['DiabetesPedigreeFunction'].quantile(0.25)\n",
    "Q3=dataset_copy['DiabetesPedigreeFunction'].quantile(0.75)\n",
    "IQR=Q3-Q1\n",
    "Min= Q1 - 1.5 * IQR\n",
    "Max= Q3 + 1.5 * IQR\n",
    "\n",
    "dataset_copy['DiabetesPedigreeFunction'] = np.where(dataset_copy['DiabetesPedigreeFunction'] <Min, 0.164,dataset_copy['DiabetesPedigreeFunction'])\n",
    "dataset_copy['DiabetesPedigreeFunction'] = np.where(dataset_copy['DiabetesPedigreeFunction'] >Max, 0.8782000000000003,dataset_copy['DiabetesPedigreeFunction'])\n",
    "print(dataset_copy['DiabetesPedigreeFunction'].skew())\n",
    "\n",
    "#8\n",
    "print(dataset_copy['Age'].skew())\n",
    "Q1=dataset_copy['Age'].quantile(0.25)\n",
    "Q3=dataset_copy['Age'].quantile(0.75)\n",
    "IQR=Q3-Q1\n",
    "Min= Q1 - 1.5 * IQR\n",
    "Max= Q3 + 1.5 * IQR\n",
    "\n",
    "dataset_copy['Age'] = np.where(dataset_copy['Age'] <Min, 22.0,dataset_copy['Age'])\n",
    "dataset_copy['Age'] = np.where(dataset_copy['Age'] >Max, 50.0,dataset_copy['Age'])\n",
    "print(dataset_copy['Age'].skew())\n"
   ]
  },
  {
   "cell_type": "code",
   "execution_count": 28,
   "id": "aaa306c6",
   "metadata": {},
   "outputs": [
    {
     "data": {
      "image/png": "[encoded data removed]",
      "text/plain": [
       "<Figure size 432x288 with 1 Axes>"
      ]
     },
     "metadata": {
      "needs_background": "light"
     },
     "output_type": "display_data"
    }
   ],
   "source": [
    "plt.boxplot(dataset_copy)\n",
    "plt.show()"
   ]
  },
  {
   "cell_type": "code",
   "execution_count": 29,
   "id": "17065c0e",
   "metadata": {},
   "outputs": [],
   "source": [
    "col_names = list(dataset_copy.columns)\n",
    "mm_scaler = preprocessing.MinMaxScaler()\n",
    "dataset_copy = mm_scaler.fit_transform(dataset_copy)\n",
    "dataset_copy= pd.DataFrame(dataset_copy, columns=col_names)"
   ]
  },
  {
   "cell_type": "code",
   "execution_count": 30,
   "id": "62140f11",
   "metadata": {
    "scrolled": true
   },
   "outputs": [
    {
     "data": {
      "image/png": "[encoded data removed]",
      "text/plain": [
       "<Figure size 432x288 with 1 Axes>"
      ]
     },
     "metadata": {
      "needs_background": "light"
     },
     "output_type": "display_data"
    }
   ],
   "source": [
    "plt.boxplot(dataset_copy)\n",
    "plt.show()"
   ]
  },
  {
   "cell_type": "code",
   "execution_count": 31,
   "id": "a52fab4a",
   "metadata": {},
   "outputs": [
    {
     "name": "stdout",
     "output_type": "stream",
     "text": [
      "accuracy: 80.75\n",
      "MAE: 0.1925\n",
      "MSE: 0.1925\n",
      "RMSE: 0.4387482\n"
     ]
    },
    {
     "data": {
      "image/png": "[encoded data removed]",
      "text/plain": [
       "<Figure size 432x288 with 1 Axes>"
      ]
     },
     "metadata": {
      "needs_background": "light"
     },
     "output_type": "display_data"
    },
    {
     "data": {
      "image/png": "[encoded data removed]",
      "text/plain": [
       "<Figure size 720x504 with 2 Axes>"
      ]
     },
     "metadata": {
      "needs_background": "light"
     },
     "output_type": "display_data"
    },
    {
     "data": {
      "image/png": "[encoded data removed]",
      "text/plain": [
       "<Figure size 432x288 with 1 Axes>"
      ]
     },
     "metadata": {
      "needs_background": "light"
     },
     "output_type": "display_data"
    }
   ],
   "source": [
    "#Scaling data\n",
    "dataset_copy=dataset_copy.astype('float32')\n",
    "scaler=MinMaxScaler()\n",
    "dataset_copy=scaler.fit_transform(dataset_copy)\n",
    "\n",
    "#split data\n",
    "X_train=dataset_copy[0:1600,0:8]\n",
    "Y_train=dataset_copy[0:1600,8]\n",
    "\n",
    "X_test=dataset_copy[1600:,0:8]\n",
    "Y_test=dataset_copy[1600:,8]\n",
    "\n",
    "\n",
    "# an initial SVM model with linear kernel   \n",
    "model = svm.SVC(C=2, kernel='linear')\n",
    "history=model.fit(X_train, Y_train)\n",
    "prediction = model.predict(X_test)\n",
    "print('accuracy:',metrics.accuracy_score(prediction, Y_test) * 100)\n",
    "print('MAE:', metrics.mean_absolute_error(Y_test, prediction))\n",
    "print('MSE:', metrics.mean_squared_error(Y_test, prediction))\n",
    "print('RMSE:', np.sqrt(metrics.mean_squared_error(Y_test, prediction)))\n",
    "\n",
    "#roc curve\n",
    "fpr = dict()\n",
    "tpr = dict()\n",
    "roc_auc = dict()\n",
    "for i in range(2):\n",
    "    fpr[i], tpr[i], _ = roc_curve(Y_test, prediction)\n",
    "    roc_auc[i] = auc(fpr[i], tpr[i])\n",
    "\n",
    "plt.figure()\n",
    "plt.plot(fpr[1], tpr[1])\n",
    "plt.xlabel('False Positive Rate')\n",
    "plt.ylabel('True Positive Rate')\n",
    "plt.title('ROC')\n",
    "plt.show()\n",
    "\n",
    "#confusion matrix curve\n",
    "confusion = metrics.confusion_matrix(y_true = Y_test, y_pred = prediction)\n",
    "df_cm = pd.DataFrame(confusion, index = [i for i in \"01\"],\n",
    "                  columns = [i for i in \"01\"])\n",
    "plt.figure(figsize = (10,7))\n",
    "plt.title(\"Confusion matrix\")\n",
    "plt.ylabel('Real Values')\n",
    "plt.xlabel('Predicted Values')\n",
    "sns.heatmap(df_cm, annot=True,fmt='d')\n",
    "plt.show()\n",
    "\n",
    "#applying PCA\n",
    "pca = PCA(n_components =2)\n",
    "X_train = pca.fit_transform(X_train)\n",
    "X_test = pca.fit_transform(X_test)\n",
    "explained_variance = pca.explained_variance_ratio_\n",
    "history2=model.fit(X_train, Y_train)\n",
    "prediction = model.predict(X_test)\n",
    "# Visualising the Test set results\n",
    "\n",
    "X_set, y_set =X_test, Y_test\n",
    "X1, X2 = np.meshgrid(np.arange(start = X_set[:, 0].min() - 1, stop = X_set[:, 0].max() + 1, step = 0.01),\n",
    "                     np.arange(start = X_set[:, 1].min() - 1, stop = X_set[:, 1].max() + 1, step = 0.01))\n",
    "plt.contourf(X1, X2, model.predict(np.array([X1.ravel(), X2.ravel()]).T).reshape(X1.shape),\n",
    "            alpha = 0.75, cmap = ListedColormap(('red', 'green')))\n",
    "plt.xlim(X1.min(), X1.max())\n",
    "plt.ylim(X2.min(), X2.max())\n",
    "for i, j in enumerate(np.unique(y_set)):\n",
    "    plt.scatter(X_set[y_set == j, 0], X_set[y_set == j, 1], cmap = ListedColormap(('red', 'green'))(i), label = j)\n",
    "plt.title('SVM (Learning curve)')\n",
    "plt.xlabel('PCA1')\n",
    "plt.ylabel('PCA2')\n",
    "plt.legend()\n",
    "plt.show()\n"
   ]
  },
  {
   "cell_type": "code",
   "execution_count": null,
   "id": "44b22109",
   "metadata": {},
   "outputs": [],
   "source": []
  }
 ],
 "metadata": {
  "kernelspec": {
   "display_name": "Python 3",
   "language": "python",
   "name": "python3"
  },
  "language_info": {
   "codemirror_mode": {
    "name": "ipython",
    "version": 3
   },
   "file_extension": ".py",
   "mimetype": "text/x-python",
   "name": "python",
   "nbconvert_exporter": "python",
   "pygments_lexer": "ipython3",
   "version": "3.8.8"
  }
 },
 "nbformat": 4,
 "nbformat_minor": 5
}
