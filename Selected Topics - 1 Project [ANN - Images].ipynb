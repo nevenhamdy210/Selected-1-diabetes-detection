{
 "cells": [
  {
   "cell_type": "code",
   "execution_count": 1,
   "id": "ae3b0602",
   "metadata": {},
   "outputs": [],
   "source": [
    "import tensorflow as tf\n",
    "import numpy as np\n",
    "import cv2\n",
    "import matplotlib.pyplot as plt\n",
    "import random\n",
    "%matplotlib inline\n",
    "import cv2\n",
    "from sklearn.utils import shuffle\n",
    "from sklearn.model_selection import train_test_split\n",
    "from tensorflow.keras.models import Sequential  # Model type to be used\n",
    "from tensorflow.keras import models\n",
    "\n",
    "from tensorflow.keras.layers import Dense, Dropout, Activation # Types of layers to be used in our model\n",
    "from tensorflow.keras.utils import to_categorical"
   ]
  },
  {
   "cell_type": "code",
   "execution_count": 2,
   "id": "8f79b673",
   "metadata": {},
   "outputs": [],
   "source": [
    "import glob\n",
    "\n",
    "Positive = glob.glob('archive/Positive/*.jpg') \n",
    "Negative = glob.glob('archive/Negative/*.jpg')\n",
    "\n",
    "positiveImgs = np.zeros((20000,100,100))\n",
    "negativeImgs = np.zeros((20000,100,100))\n",
    "c = 0"
   ]
  },
  {
   "cell_type": "code",
   "execution_count": 3,
   "id": "7bebd87f",
   "metadata": {},
   "outputs": [],
   "source": [
    "for positive, negative in zip(Positive, Negative):\n",
    "    posImg = cv2.imread(positive, 0)\n",
    "    negImg = cv2.imread(negative, 0)\n",
    "    posImg = cv2.GaussianBlur(posImg,(3,3),1)\n",
    "    negImg = cv2.GaussianBlur(negImg,(3,3),1)\n",
    "    ret,th1 = cv2.threshold(posImg,90,255,cv2.THRESH_BINARY_INV)\n",
    "    ret,th2 = cv2.threshold(negImg,60,255,cv2.THRESH_BINARY_INV)\n",
    "    img1 = cv2.resize(th1, (100, 100), interpolation = cv2.INTER_LINEAR)\n",
    "    img2 = cv2.resize(th2, (100, 100), interpolation = cv2.INTER_LINEAR)\n",
    "    img1 = img1.reshape(1, 100 , 100)\n",
    "    img2 = img2.reshape(1, 100 , 100)\n",
    "    positiveImgs[c] = img1\n",
    "    negativeImgs[c] = img2\n",
    "    c += 1"
   ]
  },
  {
   "cell_type": "code",
   "execution_count": 4,
   "id": "574b9fca",
   "metadata": {},
   "outputs": [],
   "source": [
    "positiveLabel = np.ones((20000,1), int)\n",
    "negativeLabel = np.zeros((20000,1), int)"
   ]
  },
  {
   "cell_type": "code",
   "execution_count": 5,
   "id": "418ba027",
   "metadata": {},
   "outputs": [],
   "source": [
    "imgs = np.append(positiveImgs, negativeImgs, axis = 0)"
   ]
  },
  {
   "cell_type": "code",
   "execution_count": 6,
   "id": "e008c16c",
   "metadata": {},
   "outputs": [],
   "source": [
    "labels = np.append(positiveLabel, negativeLabel, axis = 0)"
   ]
  },
  {
   "cell_type": "code",
   "execution_count": 7,
   "id": "410c80c0",
   "metadata": {},
   "outputs": [],
   "source": [
    "from sklearn.utils import shuffle\n",
    "\n",
    "X , Y = shuffle(imgs,labels)"
   ]
  },
  {
   "cell_type": "code",
   "execution_count": 8,
   "id": "aa29ba6c",
   "metadata": {},
   "outputs": [
    {
     "name": "stdout",
     "output_type": "stream",
     "text": [
      "Training matrix shape (32000, 10000)\n",
      "Testing matrix shape (8000, 10000)\n"
     ]
    }
   ],
   "source": [
    "X = X.reshape(40000, 10000)\n",
    "X = X.astype('float32')   # change integers to 32-bit floating point numbers\n",
    "\n",
    "x_train, x_test, y_train, y_test = train_test_split(X, Y, test_size = 0.2)\n",
    "\n",
    "\n",
    "x_train /= 255                        # normalize each value for each pixel for the entire vector for each input\n",
    "x_test /= 255\n",
    "\n",
    "print(\"Training matrix shape\", x_train.shape)\n",
    "print(\"Testing matrix shape\", x_test.shape)"
   ]
  },
  {
   "cell_type": "code",
   "execution_count": 9,
   "id": "c2edca1f",
   "metadata": {},
   "outputs": [],
   "source": [
    "nb_classes = 2 # number of unique digits\n",
    "\n",
    "Y_train = to_categorical(y_train, nb_classes)\n",
    "Y_test = to_categorical(y_test, nb_classes)"
   ]
  },
  {
   "cell_type": "code",
   "execution_count": 10,
   "id": "0b6f46f8",
   "metadata": {},
   "outputs": [],
   "source": [
    "model = Sequential()\n",
    "\n",
    "model.add(Dense(512, input_shape=(10000,)))\n",
    "model.add(Activation('relu'))\n",
    "model.add(Dropout(0.2))\n",
    "\n",
    "model.add(Dense(512))\n",
    "model.add(Activation('relu'))\n",
    "model.add(Dropout(0.2))\n",
    "\n",
    "model.add(Dense(512))\n",
    "model.add(Activation('relu'))\n",
    "model.add(Dropout(0.2))\n",
    "\n",
    "\n",
    "model.add(Dense(2))\n",
    "model.add(Activation('softmax'))"
   ]
  },
  {
   "cell_type": "code",
   "execution_count": 11,
   "id": "b5006bba",
   "metadata": {},
   "outputs": [
    {
     "name": "stdout",
     "output_type": "stream",
     "text": [
      "Model: \"sequential\"\n",
      "_________________________________________________________________\n",
      "Layer (type)                 Output Shape              Param #   \n",
      "=================================================================\n",
      "dense (Dense)                (None, 512)               5120512   \n",
      "_________________________________________________________________\n",
      "activation (Activation)      (None, 512)               0         \n",
      "_________________________________________________________________\n",
      "dropout (Dropout)            (None, 512)               0         \n",
      "_________________________________________________________________\n",
      "dense_1 (Dense)              (None, 512)               262656    \n",
      "_________________________________________________________________\n",
      "activation_1 (Activation)    (None, 512)               0         \n",
      "_________________________________________________________________\n",
      "dropout_1 (Dropout)          (None, 512)               0         \n",
      "_________________________________________________________________\n",
      "dense_2 (Dense)              (None, 512)               262656    \n",
      "_________________________________________________________________\n",
      "activation_2 (Activation)    (None, 512)               0         \n",
      "_________________________________________________________________\n",
      "dropout_2 (Dropout)          (None, 512)               0         \n",
      "_________________________________________________________________\n",
      "dense_3 (Dense)              (None, 2)                 1026      \n",
      "_________________________________________________________________\n",
      "activation_3 (Activation)    (None, 2)                 0         \n",
      "=================================================================\n",
      "Total params: 5,646,850\n",
      "Trainable params: 5,646,850\n",
      "Non-trainable params: 0\n",
      "_________________________________________________________________\n"
     ]
    }
   ],
   "source": [
    "model.summary()"
   ]
  },
  {
   "cell_type": "code",
   "execution_count": 12,
   "id": "005bf22a",
   "metadata": {},
   "outputs": [],
   "source": [
    "model.compile(\n",
    "    optimizer='adam',\n",
    "    loss='binary_crossentropy',\n",
    "    metrics=['accuracy'])"
   ]
  },
  {
   "cell_type": "code",
   "execution_count": 13,
   "id": "1bf4c816",
   "metadata": {},
   "outputs": [
    {
     "name": "stdout",
     "output_type": "stream",
     "text": [
      "Epoch 1/10\n",
      "200/200 [==============================] - 7s 37ms/step - loss: 0.1367 - accuracy: 0.9819 - val_loss: 0.0305 - val_accuracy: 0.9934\n",
      "Epoch 2/10\n",
      "200/200 [==============================] - 7s 34ms/step - loss: 0.0246 - accuracy: 0.9955 - val_loss: 0.0385 - val_accuracy: 0.9936\n",
      "Epoch 3/10\n",
      "200/200 [==============================] - 7s 34ms/step - loss: 0.0196 - accuracy: 0.9969 - val_loss: 0.0358 - val_accuracy: 0.9934\n",
      "Epoch 4/10\n",
      "200/200 [==============================] - 7s 34ms/step - loss: 0.0178 - accuracy: 0.9974 - val_loss: 0.0403 - val_accuracy: 0.9930\n",
      "Epoch 5/10\n",
      "200/200 [==============================] - 7s 37ms/step - loss: 0.0170 - accuracy: 0.9975 - val_loss: 0.0438 - val_accuracy: 0.9930\n",
      "Epoch 6/10\n",
      "200/200 [==============================] - 7s 36ms/step - loss: 0.0174 - accuracy: 0.9976 - val_loss: 0.0457 - val_accuracy: 0.9933\n",
      "Epoch 7/10\n",
      "200/200 [==============================] - 7s 34ms/step - loss: 0.0169 - accuracy: 0.9976 - val_loss: 0.0485 - val_accuracy: 0.9933\n",
      "Epoch 8/10\n",
      "200/200 [==============================] - 7s 35ms/step - loss: 0.0165 - accuracy: 0.9976 - val_loss: 0.0489 - val_accuracy: 0.9933\n",
      "Epoch 9/10\n",
      "200/200 [==============================] - 7s 34ms/step - loss: 0.0162 - accuracy: 0.9977 - val_loss: 0.0516 - val_accuracy: 0.9933\n",
      "Epoch 10/10\n",
      "200/200 [==============================] - 7s 34ms/step - loss: 0.0162 - accuracy: 0.9977 - val_loss: 0.0565 - val_accuracy: 0.9930\n"
     ]
    }
   ],
   "source": [
    "history=model.fit(x_train, Y_train, batch_size = 128, epochs=10, validation_split = 0.2)"
   ]
  },
  {
   "cell_type": "code",
   "execution_count": 14,
   "id": "9537b82e",
   "metadata": {},
   "outputs": [
    {
     "name": "stdout",
     "output_type": "stream",
     "text": [
      "250/250 [==============================] - 1s 6ms/step - loss: 0.0453 - accuracy: 0.9948\n",
      "Test score: 0.04527582973241806\n",
      "Test accuracy: 0.9947500228881836\n"
     ]
    }
   ],
   "source": [
    "score = model.evaluate(x_test, Y_test)\n",
    "print('Test score:', score[0])\n",
    "print('Test accuracy:', score[1])"
   ]
  },
  {
   "cell_type": "code",
   "execution_count": 15,
   "id": "a3c32efa-5088-4e8a-b835-58aae475c8e8",
   "metadata": {},
   "outputs": [],
   "source": [
    "predict=model.predict(x_test) \n",
    "predicted_classes=np.argmax(predict,axis=1)"
   ]
  },
  {
   "cell_type": "code",
   "execution_count": 16,
   "id": "d29397df",
   "metadata": {},
   "outputs": [
    {
     "data": {
      "image/png": "[encoded data removed]",
      "text/plain": [
       "<Figure size 432x288 with 1 Axes>"
      ]
     },
     "metadata": {
      "needs_background": "light"
     },
     "output_type": "display_data"
    }
   ],
   "source": [
    "loss_train = history.history['loss']\n",
    "loss_val = history.history['val_loss']\n",
    "plt.plot(loss_train, 'g', label='Training loss')\n",
    "plt.plot(loss_val, 'b', label='validation loss')\n",
    "plt.title('Training and Validation loss')\n",
    "plt.xlabel('Epochs')\n",
    "plt.ylabel('Loss')\n",
    "plt.legend()\n",
    "plt.show()"
   ]
  },
  {
   "cell_type": "code",
   "execution_count": 17,
   "id": "2e6dcc25-8f96-48b6-805c-0d14e6a4e5b3",
   "metadata": {},
   "outputs": [
    {
     "data": {
      "image/png": "[encoded data removed]",
      "text/plain": [
       "<Figure size 432x288 with 1 Axes>"
      ]
     },
     "metadata": {
      "needs_background": "light"
     },
     "output_type": "display_data"
    }
   ],
   "source": [
    "TrainAcc = history.history['accuracy']\n",
    "valAcc = history.history['val_accuracy']\n",
    "plt.plot(TrainAcc, 'g', label='Training accuracy')\n",
    "plt.plot(valAcc, 'b', label='validation accuracy')\n",
    "plt.title('Training and Validation accuracy')\n",
    "plt.xlabel('Epochs')\n",
    "plt.ylabel('Accuracy')\n",
    "plt.legend()\n",
    "plt.show()"
   ]
  },
  {
   "cell_type": "code",
   "execution_count": 18,
   "id": "613eda41-fbf2-493e-887f-9ccada99783e",
   "metadata": {},
   "outputs": [],
   "source": [
    "from sklearn import metrics\n",
    "confusion = metrics.confusion_matrix(y_true = y_test, y_pred = predicted_classes)"
   ]
  },
  {
   "cell_type": "code",
   "execution_count": 19,
   "id": "ffc7bb6b-0396-4451-b81f-a7642c98d9b3",
   "metadata": {},
   "outputs": [
    {
     "data": {
      "image/png": "[encoded data removed]",
      "text/plain": [
       "<Figure size 720x504 with 2 Axes>"
      ]
     },
     "metadata": {
      "needs_background": "light"
     },
     "output_type": "display_data"
    }
   ],
   "source": [
    "import pandas as pd\n",
    "import seaborn as sns\n",
    "df_cm = pd.DataFrame(confusion, index = [i for i in \"01\"],\n",
    "                  columns = [i for i in \"01\"])\n",
    "plt.figure(figsize = (10,7))\n",
    "plt.title(\"Confusion matrix\")\n",
    "plt.ylabel('Real Values')\n",
    "plt.xlabel('Predicted Values')\n",
    "sns.heatmap(df_cm, annot=True,fmt='d')\n",
    "\n",
    "plt.show()"
   ]
  },
  {
   "cell_type": "code",
   "execution_count": 20,
   "id": "1af24797-2cd2-4ded-8dea-d24d69abb3bc",
   "metadata": {},
   "outputs": [
    {
     "data": {
      "image/png": "[encoded data removed]",
      "text/plain": [
       "<Figure size 432x288 with 1 Axes>"
      ]
     },
     "metadata": {
      "needs_background": "light"
     },
     "output_type": "display_data"
    }
   ],
   "source": [
    "import matplotlib.pyplot as plt\n",
    "from sklearn.metrics import roc_curve, auc\n",
    "fpr = dict()\n",
    "tpr = dict()\n",
    "roc_auc = dict()\n",
    "for i in range(2):\n",
    "    fpr[i], tpr[i], _ = roc_curve(y_test, predicted_classes)\n",
    "    roc_auc[i] = auc(fpr[i], tpr[i])\n",
    "\n",
    "plt.figure()\n",
    "plt.plot(fpr[1], tpr[1])\n",
    "plt.xlabel('False Positive Rate')\n",
    "plt.ylabel('True Positive Rate')\n",
    "plt.title('ROC')\n",
    "plt.show()"
   ]
  },
  {
   "cell_type": "code",
   "execution_count": null,
   "id": "d15a1a91-c35c-4194-8a3b-4f33bd9ac4e2",
   "metadata": {},
   "outputs": [],
   "source": []
  }
 ],
 "metadata": {
  "kernelspec": {
   "display_name": "Python 3 (ipykernel)",
   "language": "python",
   "name": "python3"
  },
  "language_info": {
   "codemirror_mode": {
    "name": "ipython",
    "version": 3
   },
   "file_extension": ".py",
   "mimetype": "text/x-python",
   "name": "python",
   "nbconvert_exporter": "python",
   "pygments_lexer": "ipython3",
   "version": "3.8.8"
  }
 },
 "nbformat": 4,
 "nbformat_minor": 5
}
